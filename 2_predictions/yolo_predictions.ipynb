{
 "cells": [
  {
   "cell_type": "code",
   "execution_count": 1,
   "id": "4496a434-68c7-46b2-be36-850c87658871",
   "metadata": {},
   "outputs": [],
   "source": [
    "#!pip install PyYAML\n",
    "#!conda install -c conda-forge opencv -y"
   ]
  },
  {
   "cell_type": "code",
   "execution_count": 4,
   "id": "6959cd39-609b-40eb-a0a8-adbb6265b206",
   "metadata": {},
   "outputs": [],
   "source": [
    "import cv2\n",
    "import numpy as np\n",
    "import os\n",
    "import yaml\n",
    "from yaml.loader import SafeLoader"
   ]
  },
  {
   "cell_type": "code",
   "execution_count": 5,
   "id": "4eb5aa52-40f2-4bd6-8f80-3bc1be19ed60",
   "metadata": {},
   "outputs": [
    {
     "name": "stdout",
     "output_type": "stream",
     "text": [
      "['person', 'car', 'chair', 'bottle', 'pottedplant', 'bird', 'dog', 'sofa', 'bicycle', 'horse', 'boat', 'motorbike', 'cat', 'tvmonitor', 'cow', 'sheep', 'aeroplane', 'train', 'diningtable', 'bus']\n"
     ]
    }
   ],
   "source": [
    "# load YAML\n",
    "with open('data.yaml',mode='r') as f:\n",
    "    data_yaml = yaml.load(f,Loader=SafeLoader)\n",
    "    \n",
    "labels = data_yaml['names']\n",
    "print(labels)"
   ]
  },
  {
   "cell_type": "code",
   "execution_count": null,
   "id": "5bd33520-ed50-409d-b3b3-c83c3a2af14c",
   "metadata": {},
   "outputs": [],
   "source": [
    "#load image\n",
    "\n",
    "\n",
    "#get the prediction"
   ]
  },
  {
   "cell_type": "code",
   "execution_count": null,
   "id": "e69b2767-a4dd-405f-a0a9-051a82ed4145",
   "metadata": {},
   "outputs": [],
   "source": [
    "#Non maximun supression"
   ]
  },
  {
   "cell_type": "code",
   "execution_count": null,
   "id": "ed3210a2-e7ee-43f2-bde8-0c7d039316e2",
   "metadata": {},
   "outputs": [],
   "source": [
    "#Draw the Bounding"
   ]
  }
 ],
 "metadata": {
  "kernelspec": {
   "display_name": "Python 3 (ipykernel)",
   "language": "python",
   "name": "python3"
  },
  "language_info": {
   "codemirror_mode": {
    "name": "ipython",
    "version": 3
   },
   "file_extension": ".py",
   "mimetype": "text/x-python",
   "name": "python",
   "nbconvert_exporter": "python",
   "pygments_lexer": "ipython3",
   "version": "3.12.2"
  }
 },
 "nbformat": 4,
 "nbformat_minor": 5
}
